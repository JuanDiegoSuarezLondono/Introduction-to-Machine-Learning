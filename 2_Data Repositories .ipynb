{
 "cells": [
  {
   "cell_type": "markdown",
   "id": "e9a8f19c",
   "metadata": {},
   "source": [
    "In the previous video, you watched Dr. Gomes work with a number of datasets pulled from various data repositories. Now, it is your turn to explore online data repositories that are publicly available. Conduct an Internet search for data repositories in CSV format, which are available to the general public. Examples of places you could search for datasets are [Kaggleand](https://www.kaggle.com/datasets) and [Stack Overflow](https://stackoverflow.com/). Select three to four datasets that are of interest to you. Then, for each dataset you choose, list the following information:\n",
    "\n",
    "- A short description of the content of the data\n",
    "- One or two possible business uses of the data\n",
    "- The location (URL) of the dataset \n",
    "- A summary of the characteristics of the dataset using the describe() function in pandas\n",
    "\n",
    "Please note: You will use one of these datasets again later in this module, so please select an appropriately sized dataset for this program and your skill level. A dataset containing 10 columns and 500 rows is a good size to start. Hint: If your dataset contains data from many years, you may want to select just one year or a few years to work with later."
   ]
  },
  {
   "cell_type": "code",
   "execution_count": 1,
   "id": "9491b44d",
   "metadata": {},
   "outputs": [],
   "source": [
    "import pandas as pd"
   ]
  },
  {
   "cell_type": "markdown",
   "id": "5d26f91c",
   "metadata": {},
   "source": [
    "### Hourly Energy Consumption\n",
    "- **From:** https://www.kaggle.com/datasets/robikscube/hourly-energy-consumption\n",
    "- American Electric Power (AEP) - estimated energy consumption in Megawatts (MW)\n"
   ]
  },
  {
   "cell_type": "code",
   "execution_count": 7,
   "id": "d3769c5c",
   "metadata": {},
   "outputs": [
    {
     "data": {
      "text/html": [
       "<div>\n",
       "<style scoped>\n",
       "    .dataframe tbody tr th:only-of-type {\n",
       "        vertical-align: middle;\n",
       "    }\n",
       "\n",
       "    .dataframe tbody tr th {\n",
       "        vertical-align: top;\n",
       "    }\n",
       "\n",
       "    .dataframe thead th {\n",
       "        text-align: right;\n",
       "    }\n",
       "</style>\n",
       "<table border=\"1\" class=\"dataframe\">\n",
       "  <thead>\n",
       "    <tr style=\"text-align: right;\">\n",
       "      <th></th>\n",
       "      <th>Datetime</th>\n",
       "      <th>AEP_MW</th>\n",
       "    </tr>\n",
       "  </thead>\n",
       "  <tbody>\n",
       "    <tr>\n",
       "      <th>0</th>\n",
       "      <td>2004-12-31 01:00:00</td>\n",
       "      <td>13478.0</td>\n",
       "    </tr>\n",
       "    <tr>\n",
       "      <th>1</th>\n",
       "      <td>2004-12-31 02:00:00</td>\n",
       "      <td>12865.0</td>\n",
       "    </tr>\n",
       "    <tr>\n",
       "      <th>2</th>\n",
       "      <td>2004-12-31 03:00:00</td>\n",
       "      <td>12577.0</td>\n",
       "    </tr>\n",
       "    <tr>\n",
       "      <th>3</th>\n",
       "      <td>2004-12-31 04:00:00</td>\n",
       "      <td>12517.0</td>\n",
       "    </tr>\n",
       "    <tr>\n",
       "      <th>4</th>\n",
       "      <td>2004-12-31 05:00:00</td>\n",
       "      <td>12670.0</td>\n",
       "    </tr>\n",
       "    <tr>\n",
       "      <th>...</th>\n",
       "      <td>...</td>\n",
       "      <td>...</td>\n",
       "    </tr>\n",
       "    <tr>\n",
       "      <th>121268</th>\n",
       "      <td>2018-01-01 20:00:00</td>\n",
       "      <td>21089.0</td>\n",
       "    </tr>\n",
       "    <tr>\n",
       "      <th>121269</th>\n",
       "      <td>2018-01-01 21:00:00</td>\n",
       "      <td>20999.0</td>\n",
       "    </tr>\n",
       "    <tr>\n",
       "      <th>121270</th>\n",
       "      <td>2018-01-01 22:00:00</td>\n",
       "      <td>20820.0</td>\n",
       "    </tr>\n",
       "    <tr>\n",
       "      <th>121271</th>\n",
       "      <td>2018-01-01 23:00:00</td>\n",
       "      <td>20415.0</td>\n",
       "    </tr>\n",
       "    <tr>\n",
       "      <th>121272</th>\n",
       "      <td>2018-01-02 00:00:00</td>\n",
       "      <td>19993.0</td>\n",
       "    </tr>\n",
       "  </tbody>\n",
       "</table>\n",
       "<p>121273 rows × 2 columns</p>\n",
       "</div>"
      ],
      "text/plain": [
       "                   Datetime   AEP_MW\n",
       "0       2004-12-31 01:00:00  13478.0\n",
       "1       2004-12-31 02:00:00  12865.0\n",
       "2       2004-12-31 03:00:00  12577.0\n",
       "3       2004-12-31 04:00:00  12517.0\n",
       "4       2004-12-31 05:00:00  12670.0\n",
       "...                     ...      ...\n",
       "121268  2018-01-01 20:00:00  21089.0\n",
       "121269  2018-01-01 21:00:00  20999.0\n",
       "121270  2018-01-01 22:00:00  20820.0\n",
       "121271  2018-01-01 23:00:00  20415.0\n",
       "121272  2018-01-02 00:00:00  19993.0\n",
       "\n",
       "[121273 rows x 2 columns]"
      ]
     },
     "execution_count": 7,
     "metadata": {},
     "output_type": "execute_result"
    }
   ],
   "source": [
    "path = 'C:\\\\Users\\\\JDLondon\\\\Documents\\\\MEGA\\\\Documentos JD\\\\Universidad\\\\University of California-Berkley\\\\The Basics of Using pandas\\\\HourlyEnergyConsumption\\\\AEP_hourly.csv'\n",
    "DS = pd.read_csv(path)\n",
    "DS"
   ]
  }
 ],
 "metadata": {
  "kernelspec": {
   "display_name": "Python 3 (ipykernel)",
   "language": "python",
   "name": "python3"
  },
  "language_info": {
   "codemirror_mode": {
    "name": "ipython",
    "version": 3
   },
   "file_extension": ".py",
   "mimetype": "text/x-python",
   "name": "python",
   "nbconvert_exporter": "python",
   "pygments_lexer": "ipython3",
   "version": "3.10.9"
  }
 },
 "nbformat": 4,
 "nbformat_minor": 5
}
