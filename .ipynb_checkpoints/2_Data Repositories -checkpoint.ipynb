{
 "cells": [
  {
   "cell_type": "markdown",
   "id": "4174e53b",
   "metadata": {},
   "source": [
    "In the previous video, you watched Dr. Gomes work with a number of datasets pulled from various data repositories. Now, it is your turn to explore online data repositories that are publicly available. Conduct an Internet search for data repositories in CSV format, which are available to the general public. Examples of places you could search for datasets are [Kaggleand](https://www.kaggle.com/datasets) and [Stack Overflow](https://stackoverflow.com/). Select three to four datasets that are of interest to you. Then, for each dataset you choose, list the following information:\n",
    "\n",
    "- A short description of the content of the data\n",
    "- One or two possible business uses of the data\n",
    "- The location (URL) of the dataset \n",
    "- A summary of the characteristics of the dataset using the describe() function in pandas\n",
    "\n",
    "Please note: You will use one of these datasets again later in this module, so please select an appropriately sized dataset for this program and your skill level. A dataset containing 10 columns and 500 rows is a good size to start. Hint: If your dataset contains data from many years, you may want to select just one year or a few years to work with later."
   ]
  },
  {
   "cell_type": "code",
   "execution_count": null,
   "id": "1b0cd801",
   "metadata": {},
   "outputs": [],
   "source": []
  }
 ],
 "metadata": {
  "kernelspec": {
   "display_name": "Python 3 (ipykernel)",
   "language": "python",
   "name": "python3"
  },
  "language_info": {
   "codemirror_mode": {
    "name": "ipython",
    "version": 3
   },
   "file_extension": ".py",
   "mimetype": "text/x-python",
   "name": "python",
   "nbconvert_exporter": "python",
   "pygments_lexer": "ipython3",
   "version": "3.10.9"
  }
 },
 "nbformat": 4,
 "nbformat_minor": 5
}
